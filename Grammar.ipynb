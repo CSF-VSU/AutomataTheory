{
 "cells": [
  {
   "cell_type": "markdown",
   "metadata": {},
   "source": [
    "##### Прогресс\n",
    "\n",
    "* `[v]` Упражнение 3-4  - удаление бесполезных символов\n",
    "    * https://neerc.ifmo.ru/wiki/index.php?title=Удаление_бесполезных_символов_из_грамматики\n",
    "\n",
    "\n",
    "* `[ ]` Упражнение 5-6  - преобразование к неукорачивающей грамматике\n",
    "    * ???\n",
    "\n",
    "\n",
    "* `[v]` Упражнение 7-8  - удаление цепных правил\n",
    "    * https://neerc.ifmo.ru/wiki/index.php?title=Удаление_цепных_правил_из_грамматики\n",
    "\n",
    "\n",
    "* `[ ]` Упражнение 9-10 - исключение левой рекурсии из свободной грамматики\n",
    "    * `[v]` https://neerc.ifmo.ru/wiki/index.php?title=Удаление_eps-правил_из_грамматики\n",
    "    * `[ ]` https://neerc.ifmo.ru/wiki/index.php?title=Устранение_левой_рекурсии\n",
    "\n",
    "\n",
    "* `[ ]` Упражнение 11-12 - приведение к нормальной форме Хомского\n",
    "    * `[v]` https://neerc.ifmo.ru/wiki/index.php?title=Удаление_длинных_правил_из_грамматики\n",
    "    * `[v]` https://neerc.ifmo.ru/wiki/index.php?title=Удаление_eps-правил_из_грамматики\n",
    "    * `[v]` https://neerc.ifmo.ru/wiki/index.php?title=Удаление_цепных_правил_из_грамматики \n",
    "    * `[v]` https://neerc.ifmo.ru/wiki/index.php?title=Удаление_бесполезных_символов_из_грамматики\n",
    "    * `[ ]` https://neerc.ifmo.ru/wiki/index.php?title=Нормальная_форма_Хомского"
   ]
  },
  {
   "cell_type": "code",
   "execution_count": 37,
   "metadata": {
    "ExecuteTime": {
     "end_time": "2017-12-24T21:53:56.402852",
     "start_time": "2017-12-24T21:53:56.390613"
    },
    "collapsed": true
   },
   "outputs": [],
   "source": [
    "import re\n",
    "\n",
    "import itertools as it"
   ]
  },
  {
   "cell_type": "code",
   "execution_count": 38,
   "metadata": {
    "ExecuteTime": {
     "end_time": "2017-12-24T21:53:56.980857",
     "start_time": "2017-12-24T21:53:56.966410"
    },
    "collapsed": true
   },
   "outputs": [],
   "source": [
    "def union_lists(a, b):\n",
    "    return list(set(a).union(set(b)))\n",
    "\n",
    "def is_subset_of(a, b):\n",
    "    return [x for x in a if x in b] == a\n",
    "\n",
    "def intersection(a, b):\n",
    "    return [x for x in a if x in b]\n",
    "\n",
    "def has_intersection(a, b):\n",
    "    return len(intersection(a, b)) > 0"
   ]
  },
  {
   "cell_type": "code",
   "execution_count": 39,
   "metadata": {
    "ExecuteTime": {
     "end_time": "2017-12-24T21:53:57.676561",
     "start_time": "2017-12-24T21:53:57.672397"
    },
    "collapsed": true
   },
   "outputs": [],
   "source": [
    "def left(r):\n",
    "    return r.split('->')[0].strip()\n",
    "\n",
    "def right(r):\n",
    "    return r.split('->')[1].strip()"
   ]
  },
  {
   "cell_type": "code",
   "execution_count": 40,
   "metadata": {
    "ExecuteTime": {
     "end_time": "2017-12-24T21:53:58.453377",
     "start_time": "2017-12-24T21:53:58.416989"
    },
    "collapsed": true
   },
   "outputs": [],
   "source": [
    "NON_TERMINAL = r'[A-Z][\\d]*'\n",
    "TERMINAL     = r'[^A-Z\\d\\s\\->\\|]'\n",
    "\n",
    "def all_terminals(g):\n",
    "    return set([q for x in g for q in re.findall(TERMINAL, x)])\n",
    "\n",
    "def all_non_terminals(g):\n",
    "    return set([q for x in g for q in re.findall(NON_TERMINAL, x)])\n",
    "\n",
    "def _non_terminals(r, right=True):\n",
    "    i = int(right)\n",
    "    return [x for x in re.findall(NON_TERMINAL, r.split('->')[i])]\n",
    "\n",
    "def _terminals(r, right=True):\n",
    "    i = int(right)\n",
    "    return [x for x in re.findall(TERMINAL, r.split('->')[i])]\n",
    "\n",
    "def right_non_terminals(r):\n",
    "    return _non_terminals(r)\n",
    "\n",
    "def right_terminals(r):\n",
    "    return _terminals(r)\n",
    "\n",
    "def left_non_terminals(r):\n",
    "    return _non_terminals(r, right=False)\n",
    "\n",
    "def left_terminals(r):\n",
    "    return _terminals(r, right=False)"
   ]
  },
  {
   "cell_type": "code",
   "execution_count": 41,
   "metadata": {
    "ExecuteTime": {
     "end_time": "2017-12-24T21:53:58.860300",
     "start_time": "2017-12-24T21:53:58.834489"
    },
    "collapsed": true
   },
   "outputs": [],
   "source": [
    "def explode(r):\n",
    "    left, right = r.split('->')\n",
    "    right = right.split('|')\n",
    "    return [(left + '->' + p).strip() \\\n",
    "               for p in right]\n",
    "\n",
    "def explode_grammar(g):\n",
    "    return [x for r in g for x in explode(r)]\n",
    "\n",
    "def compact_grammar(g):\n",
    "    from collections import defaultdict\n",
    "    dict_ = defaultdict(list)\n",
    "    for r in g:\n",
    "        left, right = r.split('->')\n",
    "        left, right = left.strip(), right.strip()\n",
    "        dict_[left] += [right]\n",
    "    return [k + ' -> ' + ' | '.join(v) for k,v in dict_.items()]"
   ]
  },
  {
   "cell_type": "markdown",
   "metadata": {},
   "source": [
    "# Удаление непорождающих правил"
   ]
  },
  {
   "cell_type": "markdown",
   "metadata": {},
   "source": [
    "https://neerc.ifmo.ru/wiki/index.php?title=Удаление_бесполезных_символов_из_грамматики"
   ]
  },
  {
   "cell_type": "code",
   "execution_count": 46,
   "metadata": {
    "ExecuteTime": {
     "end_time": "2017-12-24T21:54:15.526841",
     "start_time": "2017-12-24T21:54:15.523281"
    },
    "collapsed": true
   },
   "outputs": [],
   "source": [
    "g = [\n",
    "    'S -> AS | BS | s',\n",
    "    'E -> EF | FF',\n",
    "    'A -> a',\n",
    "    'F -> f'\n",
    "]"
   ]
  },
  {
   "cell_type": "code",
   "execution_count": 47,
   "metadata": {
    "ExecuteTime": {
     "end_time": "2017-12-24T21:54:15.709899",
     "start_time": "2017-12-24T21:54:15.690321"
    },
    "collapsed": true
   },
   "outputs": [],
   "source": [
    "def delete_non_generating_rules(g):\n",
    "    g_ = explode_grammar(g)\n",
    "    Q = []\n",
    "    for r in g_:\n",
    "        if len(right_non_terminals(r)) == 0:\n",
    "            Q = union_lists(Q, left_non_terminals(r)) \n",
    "    changed = True\n",
    "    while changed:\n",
    "        changed = False\n",
    "        for r in g_:\n",
    "            if is_subset_of(right_non_terminals(r), Q): \n",
    "                old = len(Q)\n",
    "                Q = union_lists(Q, left_non_terminals(r))\n",
    "                if old != len(Q):\n",
    "                    changed = True\n",
    "    return compact_grammar([r for r in g_ if is_subset_of(right_non_terminals(r), Q)])"
   ]
  },
  {
   "cell_type": "code",
   "execution_count": 48,
   "metadata": {
    "ExecuteTime": {
     "end_time": "2017-12-24T21:54:15.878508",
     "start_time": "2017-12-24T21:54:15.869431"
    },
    "collapsed": false
   },
   "outputs": [],
   "source": [
    "new_grammar = delete_non_generating_rules(g)"
   ]
  },
  {
   "cell_type": "code",
   "execution_count": 49,
   "metadata": {
    "ExecuteTime": {
     "end_time": "2017-12-24T21:54:16.016226",
     "start_time": "2017-12-24T21:54:16.010070"
    },
    "collapsed": false
   },
   "outputs": [
    {
     "name": "stdout",
     "output_type": "stream",
     "text": [
      "S -> AS | s\n",
      "E -> EF | FF\n",
      "A -> a\n",
      "F -> f\n"
     ]
    }
   ],
   "source": [
    "for r in new_grammar:\n",
    "    print(r)"
   ]
  },
  {
   "cell_type": "markdown",
   "metadata": {},
   "source": [
    "# Удаление недостижимых нетерминалов"
   ]
  },
  {
   "cell_type": "markdown",
   "metadata": {},
   "source": [
    "https://neerc.ifmo.ru/wiki/index.php?title=Удаление_бесполезных_символов_из_грамматики"
   ]
  },
  {
   "cell_type": "markdown",
   "metadata": {},
   "source": [
    "Нетерминал $A$ называется достижимым (англ. reachable) в КС-грамматике $\\Gamma$, если существует порождение $S \\Rightarrow^* \\alpha A \\beta$. Иначе он называется недостижимым (англ. unreachable).\n",
    "\n",
    "Очевидно, что если нетерминал в левой части правила является достижимым, то и все нетерминалы правой части являются достижимыми."
   ]
  },
  {
   "cell_type": "markdown",
   "metadata": {},
   "source": [
    "Алгоритм\n",
    "\n",
    "* __Шаг 0.__ Множество достижимых нетерминалов состоит из единственного элемента: $\\lbrace S \\rbrace$.\n",
    "* __Шаг 1.__ Если найдено правило, в левой части которого стоит нетерминал, содержащийся в множестве, добавим в множество все нетерминалы из правой части.\n",
    "* __Шаг 2.__ Повторим предыдущий шаг, если множество порождающих нетерминалов изменилось.\n",
    "\n",
    "Получаем множество всех достижимых нетерминалов, а нетерминалы, не попавшие в него, являются недостижимыми."
   ]
  },
  {
   "cell_type": "code",
   "execution_count": 50,
   "metadata": {
    "ExecuteTime": {
     "end_time": "2017-12-24T21:54:17.467151",
     "start_time": "2017-12-24T21:54:17.463729"
    },
    "collapsed": true
   },
   "outputs": [],
   "source": [
    "g = [\n",
    "    'S -> AS | s',\n",
    "    'E -> EF | FF',\n",
    "    'A -> a',\n",
    "    'F -> f'\n",
    "]"
   ]
  },
  {
   "cell_type": "code",
   "execution_count": 51,
   "metadata": {
    "ExecuteTime": {
     "end_time": "2017-12-24T21:54:17.726902",
     "start_time": "2017-12-24T21:54:17.689553"
    },
    "collapsed": false
   },
   "outputs": [],
   "source": [
    "def delete_unreachable_non_terminals(g):\n",
    "    g_ = explode_grammar(g)\n",
    "    Q = ['S']\n",
    "    changed = True\n",
    "    while changed:\n",
    "        changed = False\n",
    "        for r in g_:\n",
    "            lnt = left_non_terminals(r).pop()\n",
    "            if lnt not in Q:\n",
    "                continue\n",
    "            old = len(Q)\n",
    "            Q = union_lists(Q, right_non_terminals(r))\n",
    "            if old != len(Q):\n",
    "                changed = True\n",
    "    return compact_grammar([r for r in g_ if left_non_terminals(r).pop() in Q])"
   ]
  },
  {
   "cell_type": "code",
   "execution_count": 52,
   "metadata": {
    "ExecuteTime": {
     "end_time": "2017-12-24T21:54:18.093403",
     "start_time": "2017-12-24T21:54:18.087834"
    },
    "collapsed": true
   },
   "outputs": [],
   "source": [
    "new_grammar = delete_unreachable_non_terminals(g)"
   ]
  },
  {
   "cell_type": "code",
   "execution_count": 53,
   "metadata": {
    "ExecuteTime": {
     "end_time": "2017-12-24T21:54:18.461155",
     "start_time": "2017-12-24T21:54:18.451592"
    },
    "collapsed": false
   },
   "outputs": [
    {
     "name": "stdout",
     "output_type": "stream",
     "text": [
      "S -> AS | s\n",
      "A -> a\n"
     ]
    }
   ],
   "source": [
    "for r in new_grammar:\n",
    "    print(r)"
   ]
  },
  {
   "cell_type": "markdown",
   "metadata": {},
   "source": [
    "# Удаление бесполезных символов"
   ]
  },
  {
   "cell_type": "markdown",
   "metadata": {},
   "source": [
    "https://neerc.ifmo.ru/wiki/index.php?title=Удаление_бесполезных_символов_из_грамматики"
   ]
  },
  {
   "cell_type": "markdown",
   "metadata": {},
   "source": [
    "Нетерминал $A$ называется полезным (англ. useful) в КС-грамматике $\\Gamma$, если он может участвовать в выводе, то есть существует порождение вида $S \\Rightarrow ^* \\alpha A \\beta \\Rightarrow ^* w$. Иначе он называется бесполезным (англ. useless).\n",
    "\n",
    "Грамматика $\\Gamma$ не содержит бесполезных нетерминалов тогда и только тогда, когда грамматика $\\Gamma$ не содержит ни недостижимых нетерминалов, ни непорождающих."
   ]
  },
  {
   "cell_type": "markdown",
   "metadata": {},
   "source": [
    "Алгоритм состоит из двух этапов:\n",
    "\n",
    "1. Удалить из грамматики правила, содержащие непорождающие нетерминалы.\n",
    "2. Удалить из грамматики правила, содержащие недостижимые нетерминалы."
   ]
  },
  {
   "cell_type": "code",
   "execution_count": 54,
   "metadata": {
    "ExecuteTime": {
     "end_time": "2017-12-24T21:54:20.251463",
     "start_time": "2017-12-24T21:54:20.246399"
    },
    "collapsed": true
   },
   "outputs": [],
   "source": [
    "def delete_useless_symbols(g):\n",
    "    g_ = delete_non_generating_rules(g)\n",
    "    return delete_unreachable_non_terminals(g_)"
   ]
  },
  {
   "cell_type": "code",
   "execution_count": 55,
   "metadata": {
    "ExecuteTime": {
     "end_time": "2017-12-24T21:54:20.516841",
     "start_time": "2017-12-24T21:54:20.505576"
    },
    "collapsed": true
   },
   "outputs": [],
   "source": [
    "g = [\n",
    "    'S -> AS | BS | s',\n",
    "    'E -> EF | FF',\n",
    "    'A -> a',\n",
    "    'F -> f'\n",
    "]"
   ]
  },
  {
   "cell_type": "code",
   "execution_count": 56,
   "metadata": {
    "ExecuteTime": {
     "end_time": "2017-12-24T21:54:20.681628",
     "start_time": "2017-12-24T21:54:20.673173"
    },
    "collapsed": true
   },
   "outputs": [],
   "source": [
    "new_grammar = delete_useless_symbols(g)"
   ]
  },
  {
   "cell_type": "code",
   "execution_count": 57,
   "metadata": {
    "ExecuteTime": {
     "end_time": "2017-12-24T21:54:20.941178",
     "start_time": "2017-12-24T21:54:20.934677"
    },
    "collapsed": false
   },
   "outputs": [
    {
     "name": "stdout",
     "output_type": "stream",
     "text": [
      "S -> AS | s\n",
      "A -> a\n"
     ]
    }
   ],
   "source": [
    "for r in new_grammar:\n",
    "    print(r)"
   ]
  },
  {
   "cell_type": "markdown",
   "metadata": {},
   "source": [
    "# Удаление цепных правил"
   ]
  },
  {
   "cell_type": "markdown",
   "metadata": {},
   "source": [
    "https://neerc.ifmo.ru/wiki/index.php?title=Удаление_цепных_правил_из_грамматики"
   ]
  },
  {
   "cell_type": "markdown",
   "metadata": {
    "collapsed": true
   },
   "source": [
    "__Цепная пара__ (unit pair) — упорядоченная пара (A,B), в которой $A\\Rightarrow ^* B$, используя только цепные правила.\n",
    "\n",
    "Алгоритм удаления цепных правил из грамматики:\n",
    "\n",
    "1. Найти все цепные пары в грамматике $\\Gamma$.\n",
    "2. Для каждой цепной пары $(A,B)$ добавить в грамматику $\\Gamma'$ все правила вида $A\\rightarrow\\alpha$, где $B\\rightarrow\\alpha$ — нецепное правило из $\\Gamma$.\n",
    "3. Удалить все цепные правила"
   ]
  },
  {
   "cell_type": "code",
   "execution_count": 58,
   "metadata": {
    "ExecuteTime": {
     "end_time": "2017-12-24T21:54:21.592777",
     "start_time": "2017-12-24T21:54:21.589939"
    },
    "collapsed": true
   },
   "outputs": [],
   "source": [
    "g = [\n",
    "    'A -> B | a', \n",
    "    'B -> C | b',\n",
    "    'C -> DD | c'\n",
    "] "
   ]
  },
  {
   "cell_type": "code",
   "execution_count": 59,
   "metadata": {
    "ExecuteTime": {
     "end_time": "2017-12-24T21:54:21.832806",
     "start_time": "2017-12-24T21:54:21.790556"
    },
    "collapsed": false
   },
   "outputs": [],
   "source": [
    "def delete_unit_rules(g):\n",
    "    g_ = explode_grammar(g)\n",
    "    pairs = [(k, k) for k in all_non_terminals(g)]\n",
    "    \n",
    "    to_delete = []\n",
    "    for r in g_:\n",
    "        lnt = left_non_terminals(r).pop()\n",
    "        rnt = right_non_terminals(r)\n",
    "        if len(rnt) > 1:\n",
    "            continue\n",
    "        for a, b in pairs:  \n",
    "            if b == lnt:\n",
    "                for x in rnt:\n",
    "                    if (a, x) not in pairs:\n",
    "                        to_delete += [r]\n",
    "                        pairs += [(a, x)]\n",
    "\n",
    "    pairs = [(a,b) for (a,b) in pairs if a != b] \n",
    "    \n",
    "    new_rules = []\n",
    "    for a,b in pairs:\n",
    "        for r in g_:\n",
    "            lnt = left_non_terminals(r).pop()\n",
    "            if lnt != b:\n",
    "                continue\n",
    "            candidate = (a, right(r))\n",
    "            if candidate not in pairs:\n",
    "                new_rules += [a + ' -> ' + right(r)]\n",
    "    \n",
    "    new_rules.extend(g_)\n",
    "    new_rules = [x for x in new_rules if x not in to_delete]\n",
    "    \n",
    "    return compact_grammar(new_rules)"
   ]
  },
  {
   "cell_type": "code",
   "execution_count": 60,
   "metadata": {
    "ExecuteTime": {
     "end_time": "2017-12-24T21:54:22.000281",
     "start_time": "2017-12-24T21:54:21.996349"
    },
    "collapsed": false
   },
   "outputs": [],
   "source": [
    "new_grammar = delete_unit_rules(g)"
   ]
  },
  {
   "cell_type": "code",
   "execution_count": 61,
   "metadata": {
    "ExecuteTime": {
     "end_time": "2017-12-24T21:54:22.116135",
     "start_time": "2017-12-24T21:54:22.109594"
    },
    "collapsed": false
   },
   "outputs": [
    {
     "name": "stdout",
     "output_type": "stream",
     "text": [
      "A -> b | DD | c | a\n",
      "B -> DD | c | b\n",
      "C -> DD | c\n"
     ]
    }
   ],
   "source": [
    "for r in new_grammar:\n",
    "    print(r)"
   ]
  },
  {
   "cell_type": "markdown",
   "metadata": {},
   "source": [
    "# Поиск $\\varepsilon$-нетерминалов"
   ]
  },
  {
   "cell_type": "markdown",
   "metadata": {},
   "source": [
    "https://neerc.ifmo.ru/wiki/index.php?title=Удаление_eps-правил_из_грамматики"
   ]
  },
  {
   "cell_type": "markdown",
   "metadata": {},
   "source": [
    "Правила вида $A \\to \\varepsilon$ называются $\\varepsilon$-правилами (англ. $\\varepsilon$-rule).\n",
    "\n",
    "Нетерминал $A$ называется $\\varepsilon$-порождающим (англ. $\\varepsilon$-generating), если $A \\Rightarrow^* \\varepsilon$."
   ]
  },
  {
   "cell_type": "markdown",
   "metadata": {},
   "source": [
    "Алгоритм поиска $\\varepsilon$-порождающих нетерминалов\n",
    "\n",
    "1. Найти все $\\varepsilon$-правила. Составить множество, состоящее из нетерминалов, входящих в левые части таких правил.\n",
    "2. Перебираем правила грамматики $\\Gamma$. Если найдено правило $A \\rightarrow C_1C_2...C_k$, для которого верно, что каждый $C_i$ принадлежит множеству, то добавить $A$ в множество.\n",
    "3. Если на шаге 2 множество изменилось, то повторить шаг 2."
   ]
  },
  {
   "cell_type": "markdown",
   "metadata": {},
   "source": [
    "__NB:__ Будем обозначать $\\varepsilon$ в коде как #."
   ]
  },
  {
   "cell_type": "code",
   "execution_count": 62,
   "metadata": {
    "ExecuteTime": {
     "end_time": "2017-12-24T21:54:23.107242",
     "start_time": "2017-12-24T21:54:23.103399"
    },
    "collapsed": true
   },
   "outputs": [],
   "source": [
    "g = [\n",
    "    'S -> ABC',\n",
    "    'S -> DS',\n",
    "    'A -> #',\n",
    "    'B -> AC',\n",
    "    'C -> #',\n",
    "    'D -> d'\n",
    "]"
   ]
  },
  {
   "cell_type": "code",
   "execution_count": 63,
   "metadata": {
    "ExecuteTime": {
     "end_time": "2017-12-24T21:54:23.297213",
     "start_time": "2017-12-24T21:54:23.282231"
    },
    "collapsed": true
   },
   "outputs": [],
   "source": [
    "def find_esp_non_terminals(g):\n",
    "    g_ = explode_grammar(g)\n",
    "    Q = []\n",
    "    changed = True\n",
    "    while changed:\n",
    "        changed = False\n",
    "        for r in g_:\n",
    "            all_non_terms_are_eps = is_subset_of(right_non_terminals(r), Q) and len(right_terminals(r)) == 0\n",
    "            if right(r) == '#' or all_non_terms_are_eps:\n",
    "                old = len(Q)\n",
    "                Q = union_lists(Q, left_non_terminals(r))\n",
    "                if old != len(Q):\n",
    "                    changed = True\n",
    "    return Q"
   ]
  },
  {
   "cell_type": "code",
   "execution_count": 64,
   "metadata": {
    "ExecuteTime": {
     "end_time": "2017-12-24T21:54:23.486500",
     "start_time": "2017-12-24T21:54:23.476483"
    },
    "collapsed": true
   },
   "outputs": [],
   "source": [
    "Q = find_esp_non_terminals(g)"
   ]
  },
  {
   "cell_type": "code",
   "execution_count": 65,
   "metadata": {
    "ExecuteTime": {
     "end_time": "2017-12-24T21:54:23.666938",
     "start_time": "2017-12-24T21:54:23.656215"
    },
    "collapsed": false
   },
   "outputs": [
    {
     "name": "stdout",
     "output_type": "stream",
     "text": [
      "['C', 'B', 'A', 'S']\n"
     ]
    }
   ],
   "source": [
    "print(Q)"
   ]
  },
  {
   "cell_type": "markdown",
   "metadata": {},
   "source": [
    "# Удаление $\\varepsilon$-правил"
   ]
  },
  {
   "cell_type": "markdown",
   "metadata": {},
   "source": [
    "https://neerc.ifmo.ru/wiki/index.php?title=Удаление_eps-правил_из_грамматики"
   ]
  },
  {
   "cell_type": "markdown",
   "metadata": {},
   "source": [
    "Алгоритм удаления $\\varepsilon$-правил из грамматики\n",
    "\n",
    "1. Добавить все правила из $P$ в $P'$.\n",
    "2. Найти все $\\varepsilon$-порождаюшие нетерминалы.\n",
    "3. Для каждого правила вида $A \\rightarrow \\alpha_0 B_1 \\alpha_1 B_2 \\alpha_2 ... B_k \\alpha_k$ (где $\\alpha_i$ — последовательности из терминалов и нетерминалов, $B_j$ — $\\varepsilon$-порождающие нетерминалы) добавить в $P'$ все возможные варианты правил, в которых либо присутствует, либо удалён каждый из нетерминалов $B_j\\; (1 \\leqslant j \\leqslant k)$.\n",
    "4. Удалить все $\\varepsilon$-правила из $P'$.\n",
    "5. Если в исходной грамматике $\\Gamma$ выводилось $\\varepsilon$, то необходимо добавить новый нетерминал $S'$, сделать его стартовым, добавить правило $S' \\rightarrow S|\\varepsilon$."
   ]
  },
  {
   "cell_type": "code",
   "execution_count": 66,
   "metadata": {
    "ExecuteTime": {
     "end_time": "2017-12-24T21:54:24.365724",
     "start_time": "2017-12-24T21:54:24.353939"
    },
    "collapsed": true
   },
   "outputs": [],
   "source": [
    "g = [\n",
    "    'S -> ABCd',\n",
    "    'A -> a | #',\n",
    "    'B -> AC',\n",
    "    'C -> c | #'\n",
    "]"
   ]
  },
  {
   "cell_type": "code",
   "execution_count": 67,
   "metadata": {
    "ExecuteTime": {
     "end_time": "2017-12-24T21:54:24.601294",
     "start_time": "2017-12-24T21:54:24.569959"
    },
    "collapsed": true
   },
   "outputs": [],
   "source": [
    "def delete_eps_generating_rules(g):\n",
    "    all_combinations = lambda s: [x for y in [list(it.combinations([x for x in s], i+1)) \\\n",
    "                                      for i in range(len(s))] for x in y] \n",
    "    \n",
    "    g_ = explode_grammar(g)\n",
    "    \n",
    "    new_rules = []\n",
    "    eps_gen = find_esp_non_terminals(g)\n",
    "    \n",
    "    for r in g_:\n",
    "        if has_intersection(right_non_terminals(r), eps_gen):\n",
    "            to_add = []\n",
    "            s = right(r)\n",
    "            for t in all_combinations(''.join(intersection(eps_gen, right_non_terminals(r)))):\n",
    "                s_ = s[:]\n",
    "                for c in t:\n",
    "                    s_ = s_.replace(c, '')\n",
    "                if len(s_.strip()) > 0:\n",
    "                    to_add += [left(r) + ' -> ' + s_]\n",
    "            new_rules.extend(to_add)\n",
    "\n",
    "    g_ = [x for x in g_ if right(x) != '#']\n",
    "    g_.extend(new_rules)\n",
    "    if 'S' in eps_gen:\n",
    "        g_ += ['S -> #']\n",
    "    return compact_grammar(g_)"
   ]
  },
  {
   "cell_type": "code",
   "execution_count": 68,
   "metadata": {
    "ExecuteTime": {
     "end_time": "2017-12-24T21:54:24.735057",
     "start_time": "2017-12-24T21:54:24.728659"
    },
    "collapsed": false
   },
   "outputs": [
    {
     "name": "stdout",
     "output_type": "stream",
     "text": [
      "S -> ABCd | BCd | ABd | ACd | Bd | Cd | Ad | d\n",
      "A -> a\n",
      "B -> AC | C | A\n",
      "C -> c\n"
     ]
    }
   ],
   "source": [
    "for r in delete_eps_generating_rules(g):\n",
    "    print(r)"
   ]
  },
  {
   "cell_type": "markdown",
   "metadata": {},
   "source": [
    "# Удаление длинных правил из грамматики"
   ]
  },
  {
   "cell_type": "markdown",
   "metadata": {},
   "source": [
    "https://neerc.ifmo.ru/wiki/index.php?title=Удаление_длинных_правил_из_грамматики"
   ]
  },
  {
   "cell_type": "markdown",
   "metadata": {},
   "source": [
    "Пусть  $\\Gamma$ — контекстно-свободная грамматика. Правило $A \\rightarrow \\beta$ называется __длинным__ (англ. long rule), если $|\\beta| > 2$.\n",
    "\n",
    "Пусть $\\Gamma$ — контекстно-свободная грамматика, содержащая длинные правила. Требуется построить эквивалентную грамматику $\\Gamma'$, не содержащую длинных правил. \n",
    "Задача удаления длинных правил из грамматики возникает при попытке её приведения к нормальной форме Хомского."
   ]
  },
  {
   "cell_type": "markdown",
   "metadata": {},
   "source": [
    "С каждым длинным правилом $A \\rightarrow a_1 a_2 \\ldots a_k$, $k > 2$, $a_i \\in \\Sigma \\cup N$ проделаем следующее:\n",
    "\n",
    "1. Добавим в грамматику $k-2$ новых нетерминала $B_1, B_2, \\ldots B_{k-2}$.\n",
    "2. Добавим в грамматику $k-1$ новое правило:\n",
    "    $$\n",
    "    A \\rightarrow a_1B_1 \\\\\n",
    "    B_1 \\rightarrow a_2B_2 \\\\\n",
    "    B_2 \\rightarrow a_3B_3 \\\\\n",
    "    \\ldots \\\\\n",
    "    B_{k-2} \\rightarrow a_{k-1}a_{k} \n",
    "    $$\n",
    "3. Удалим из грамматики правило $A \\rightarrow a_1 a_2 \\ldots a_k$."
   ]
  },
  {
   "cell_type": "code",
   "execution_count": 69,
   "metadata": {
    "ExecuteTime": {
     "end_time": "2017-12-24T21:54:25.897771",
     "start_time": "2017-12-24T21:54:25.893880"
    },
    "collapsed": true
   },
   "outputs": [],
   "source": [
    "g = [\n",
    "    'S -> AB',\n",
    "    'A -> aBcB',\n",
    "    'B -> def'\n",
    "]"
   ]
  },
  {
   "cell_type": "code",
   "execution_count": 70,
   "metadata": {
    "ExecuteTime": {
     "end_time": "2017-12-24T21:54:26.216242",
     "start_time": "2017-12-24T21:54:26.198167"
    },
    "collapsed": false
   },
   "outputs": [],
   "source": [
    "def delete_long_rules(g):\n",
    "    split_right = lambda s: [s[i:i+1+(1 if i == len(s)-2 else 0)] for i in range(len(s)-1)]\n",
    "\n",
    "    g_ = explode_grammar(g)\n",
    "    new_grammar = []\n",
    "    for r in g_:\n",
    "        if len(right_non_terminals(r)) + len(right_terminals(r)) <= 2:\n",
    "            new_grammar += [r]\n",
    "        else:\n",
    "            l = left(r)\n",
    "            splits = split_right(right(r))\n",
    "            new_non_ts = [l] + [l + '%d'%(i+1) for i in range(len(splits)-1)]\n",
    "\n",
    "            new_rules = [x + ' -> ' + y + (new_non_ts[i+1] if i+1 < len(new_non_ts) else '') \\\n",
    "                 for i, (x, y) in enumerate(zip(new_non_ts, splits))]\n",
    "\n",
    "            new_grammar.extend(new_rules)\n",
    "    return compact_grammar(new_grammar)"
   ]
  },
  {
   "cell_type": "code",
   "execution_count": 71,
   "metadata": {
    "ExecuteTime": {
     "end_time": "2017-12-24T21:54:26.400773",
     "start_time": "2017-12-24T21:54:26.395070"
    },
    "collapsed": false
   },
   "outputs": [
    {
     "name": "stdout",
     "output_type": "stream",
     "text": [
      "S -> AB\n",
      "A -> aA1\n",
      "A1 -> BA2\n",
      "A2 -> cB\n",
      "B -> dB1\n",
      "B1 -> ef\n"
     ]
    }
   ],
   "source": [
    "for r in delete_long_rules(g):\n",
    "    print(r)"
   ]
  },
  {
   "cell_type": "markdown",
   "metadata": {},
   "source": [
    "# Нормальная форма Хомского"
   ]
  },
  {
   "cell_type": "markdown",
   "metadata": {},
   "source": [
    "https://neerc.ifmo.ru/wiki/index.php?title=Нормальная_форма_Хомского"
   ]
  },
  {
   "cell_type": "markdown",
   "metadata": {},
   "source": [
    "Грамматикой в __нормальной форме Хомского__ (англ. Chomsky normal form) называется контекстно-свободная грамматика, в которой могут содержаться правила только следующего вида:\n",
    "\n",
    "$A \\rightarrow B C, \\\\\n",
    "A \\rightarrow a, \\\\\n",
    "S \\rightarrow \\varepsilon$\n",
    "\n",
    ", где $a$ — терминал, $A, B, C$ — нетерминалы, $S$ — стартовая вершина, $\\varepsilon$ — пустая строка, стартовая вершина не содержится в правых частях правил."
   ]
  },
  {
   "cell_type": "markdown",
   "metadata": {},
   "source": [
    "Приведение грамматики к нормальной форме Хомского\n",
    "\n",
    "Рассмотрим контекстно-свободную грамматику $\\Gamma$. Для приведения ее к нормальной форме Хомского необходимо выполнить пять шагов. На каждом шаге мы строим новую $\\Gamma_i$, которая допускает тот же язык, что и $\\Gamma$.\n",
    "\n",
    "1. Уберём длинные правила.\n",
    "    Воспользуемся алгоритмом удаления длинных правил из грамматики. Получим грамматику $\\Gamma_1$, эквивалентную исходной, содержащую правила длины 0, 1 и 2.\n",
    "2. Удаление $\\varepsilon$-правил.\n",
    "    Воспользуемся алгоритмом удаления $\\varepsilon$-правил из грамматики. Получим грамматику $\\Gamma_2$, эквивалентную исходной, но в которой нет $\\varepsilon$-правил.\n",
    "3. Удаление цепных правил.\n",
    "    Воспользуемся алгоритмом удаления цепных правил из грамматики. Алгоритм работает таким образом, что новые $\\varepsilon$-правила не образуются. Получим грамматику $\\Gamma_3$, эквивалентную $\\Gamma$.\n",
    "4. Удалим бесполезные символы.\n",
    "    Воспользуемся алгоритмом удаления бесполезных символов из грамматики. Так как $\\Gamma_3$ эквивалентна $\\Gamma$, то бесполезные символы не могли перестать быть бесполезными. Более того, мы только удаляем правила, новые $\\varepsilon$-правила и цепные правила не могли появиться.\n",
    "5. Уберём ситуации, когда в правиле встречаются несколько терминалов.\n",
    "    Для всех правил вида $A \\rightarrow u_1 u_2$ (где $u_i$ — терминал или нетерминал) заменим все терминалы $u_i$ на новые нетерминалы $U_i$ и добавим правила $U_i \\rightarrow u_i$. Теперь правила содержат либо одиночный терминал, либо строку из двух нетерминалов.\n",
    "\n",
    "Таким образом, мы получили грамматику в нормальной форме Хомского, которая допускает тот же язык, что и $\\Gamma$."
   ]
  },
  {
   "cell_type": "markdown",
   "metadata": {},
   "source": [
    "$$\n",
    "S\\rightarrow aXbX|aZ  \\\\\n",
    "X\\rightarrow aY|bY|\\varepsilon  \\\\\n",
    "Y\\rightarrow X|cc \\\\\n",
    "Z\\rightarrow ZX \\\\\n",
    "$$"
   ]
  },
  {
   "cell_type": "code",
   "execution_count": 72,
   "metadata": {
    "ExecuteTime": {
     "end_time": "2017-12-24T21:54:57.658441",
     "start_time": "2017-12-24T21:54:57.655079"
    },
    "collapsed": true
   },
   "outputs": [],
   "source": [
    "g = [\n",
    "    'S -> aXbX | aZ',\n",
    "    'X -> aY | bY | #',\n",
    "    'Y -> X | cc',\n",
    "    'Z -> ZX'\n",
    "]"
   ]
  },
  {
   "cell_type": "code",
   "execution_count": 75,
   "metadata": {
    "ExecuteTime": {
     "end_time": "2017-12-24T21:55:16.589269",
     "start_time": "2017-12-24T21:55:16.583972"
    },
    "collapsed": false
   },
   "outputs": [],
   "source": [
    "g_1 = delete_long_rules(g)\n",
    "# g_2 = delete_eps_generating_rules(g_1)\n",
    "# g_3 = delete_unit_rules(g_2)\n",
    "# g_4 = delete_useless_symbols(g_3)"
   ]
  },
  {
   "cell_type": "code",
   "execution_count": 76,
   "metadata": {
    "ExecuteTime": {
     "end_time": "2017-12-24T21:55:19.576309",
     "start_time": "2017-12-24T21:55:19.563179"
    },
    "collapsed": false
   },
   "outputs": [
    {
     "name": "stdout",
     "output_type": "stream",
     "text": [
      "S -> aS1 | aZ\n",
      "S1 -> XS2\n",
      "S2 -> bX\n",
      "X -> aY | bY | #\n",
      "Y -> X | cc\n",
      "Z -> ZX\n"
     ]
    }
   ],
   "source": [
    "for r in g_1:\n",
    "    print(r)"
   ]
  },
  {
   "cell_type": "markdown",
   "metadata": {},
   "source": [
    "$$ S\\rightarrow aS_{1}|aZ \\\\\n",
    "X\\rightarrow aY|bY|\\varepsilon \\\\\n",
    "Y\\rightarrow X|cc \\\\\n",
    "Z\\rightarrow ZX \\\\\n",
    "S_{1}\\rightarrow XS_{2} \\\\\n",
    "S_{2}\\rightarrow yX $$"
   ]
  },
  {
   "cell_type": "markdown",
   "metadata": {},
   "source": [
    "# Устранение непосредственной левой рекурсии"
   ]
  },
  {
   "cell_type": "markdown",
   "metadata": {},
   "source": [
    "https://neerc.ifmo.ru/wiki/index.php?title=Устранение_левой_рекурсии"
   ]
  },
  {
   "cell_type": "markdown",
   "metadata": {},
   "source": [
    "Говорят, что контекстно-свободная (КС) грамматика $\\Gamma$ содержит __непосредственную левую рекурсию__ (англ. direct left recursion), если она содержит правило вида $A \\to A\\alpha$."
   ]
  },
  {
   "cell_type": "markdown",
   "metadata": {},
   "source": [
    "Методы нисходящего разбора не в состоянии работать с леворекурсивными грамматиками. Проблема в том, что продукция вида $A \\Rightarrow^* A\\alpha$ может применяться бесконечно долго, так и не выработав некий терминальный символ, который можно было бы сравнить со строкой. Поэтому требуется преобразование грамматики, которое бы устранило левую рекурсию."
   ]
  },
  {
   "cell_type": "markdown",
   "metadata": {
    "collapsed": true
   },
   "source": [
    "Опишем процедуру, устраняющую все правила вида $A \\to A\\alpha$, для фиксированного нетерминала $A$.\n",
    "\n",
    "1. Запишем все правила вывода из $A$ в виде:  $A \\to A\\alpha_1 \\mid \\ldots \\mid A\\alpha_n \\mid \\beta_1 \\mid \\ldots \\mid \\beta_m$, где\n",
    "    * $\\alpha$ — непустая последовательность терминалов и нетерминалов ($\\alpha \\nrightarrow \\varepsilon$);\n",
    "    * $\\beta$ — непустая последовательность терминалов и нетерминалов, не начинающаяся с $A$.\n",
    "    \n",
    "2. Заменим правила вывода из $A$ на $A \\to\\beta_1A^\\prime \\mid \\ldots\\ \\mid \\beta_mA^\\prime \\mid \\beta_1 \\mid \\ldots \\mid \\beta_m$.\n",
    "3. Создадим новый нетерминал ${A^\\prime} \\to \\alpha_1{A^\\prime} \\mid \\ldots \\mid \\alpha_n{A^\\prime} \\mid \\alpha_1 \\mid \\ldots \\mid \\alpha_n$.\n",
    "\n",
    "Изначально нетерминал $A$ порождает строки вида $\\beta\\alpha_{i0}\\alpha_{i1} \\ldots \\alpha_{ik}$. В новой грамматике нетерминал $A$ порождает $\\beta{A^\\prime}$, а $A^\\prime$ порождает строки вида $\\alpha_{i0}\\alpha_{i1} \\ldots \\alpha_{ik}$. Из этого очевидно, что изначальная грамматика эквивалентна новой."
   ]
  },
  {
   "cell_type": "code",
   "execution_count": null,
   "metadata": {
    "collapsed": true
   },
   "outputs": [],
   "source": []
  }
 ],
 "metadata": {
  "kernelspec": {
   "display_name": "Python 3",
   "language": "python",
   "name": "python3"
  },
  "language_info": {
   "codemirror_mode": {
    "name": "ipython",
    "version": 3
   },
   "file_extension": ".py",
   "mimetype": "text/x-python",
   "name": "python",
   "nbconvert_exporter": "python",
   "pygments_lexer": "ipython3",
   "version": "3.6.0"
  },
  "toc": {
   "colors": {
    "hover_highlight": "#DAA520",
    "running_highlight": "#FF0000",
    "selected_highlight": "#FFD700"
   },
   "moveMenuLeft": true,
   "nav_menu": {
    "height": "30px",
    "width": "252px"
   },
   "navigate_menu": true,
   "number_sections": true,
   "sideBar": true,
   "threshold": 4,
   "toc_cell": false,
   "toc_section_display": "block",
   "toc_window_display": true
  }
 },
 "nbformat": 4,
 "nbformat_minor": 2
}
