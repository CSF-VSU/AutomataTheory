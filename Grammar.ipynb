{
 "cells": [
  {
   "cell_type": "markdown",
   "metadata": {},
   "source": [
    "# Прогресс\n",
    "\n",
    "* `[v]` Упражнение 3-4  - удаление бесполезных символов\n",
    "    * https://neerc.ifmo.ru/wiki/index.php?title=Удаление_бесполезных_символов_из_грамматики\n",
    "\n",
    "\n",
    "* `[ ]` Упражнение 5-6  - преобразование к неукорачивающей грамматике\n",
    "    * ???\n",
    "\n",
    "\n",
    "* `[v]` Упражнение 7-8  - удаление цепных правил\n",
    "    * https://neerc.ifmo.ru/wiki/index.php?title=Удаление_цепных_правил_из_грамматики\n",
    "\n",
    "\n",
    "* `[ ]` Упражнение 9-10 - исключение левой рекурсии из свободной грамматики\n",
    "    * https://neerc.ifmo.ru/wiki/index.php?title=Удаление_eps-правил_из_грамматики\n",
    "    * https://neerc.ifmo.ru/wiki/index.php?title=Устранение_левой_рекурсии\n",
    "\n",
    "\n",
    "* `[ ]` Упражнение 11-12 - приведение к нормальной форме Хомского\n",
    "    * https://neerc.ifmo.ru/wiki/index.php?title=Удаление_длинных_правил_из_грамматики\n",
    "    * https://neerc.ifmo.ru/wiki/index.php?title=Удаление_eps-правил_из_грамматики\n",
    "    * https://neerc.ifmo.ru/wiki/index.php?title=Удаление_цепных_правил_из_грамматики \n",
    "    * https://neerc.ifmo.ru/wiki/index.php?title=Удаление_бесполезных_символов_из_грамматики\n",
    "    * https://neerc.ifmo.ru/wiki/index.php?title=Нормальная_форма_Хомского"
   ]
  },
  {
   "cell_type": "markdown",
   "metadata": {},
   "source": [
    "Еще литература:\n",
    "\n",
    "* Удаление eps-правил\n",
    "    * https://neerc.ifmo.ru/wiki/index.php?title=Удаление_eps-правил_из_грамматики \n",
    "\n",
    "* Удаление длинных правил\n",
    "    * https://neerc.ifmo.ru/wiki/index.php?title=Удаление_длинных_правил_из_грамматики"
   ]
  },
  {
   "cell_type": "code",
   "execution_count": 1,
   "metadata": {
    "ExecuteTime": {
     "end_time": "2017-09-30T17:45:36.458510",
     "start_time": "2017-09-30T17:45:36.454634"
    },
    "collapsed": true
   },
   "outputs": [],
   "source": [
    "import re"
   ]
  },
  {
   "cell_type": "code",
   "execution_count": 2,
   "metadata": {
    "ExecuteTime": {
     "end_time": "2017-09-30T17:45:37.002484",
     "start_time": "2017-09-30T17:45:36.997919"
    },
    "collapsed": true
   },
   "outputs": [],
   "source": [
    "def all_terminals(g):\n",
    "    return set([q for x in g for q in re.findall(r'[^A-Z\\s(\\->)\\|]', x)])\n",
    "\n",
    "def all_non_terminals(g):\n",
    "    return set([q for x in g for q in re.findall(r'[A-Z]', x)])"
   ]
  },
  {
   "cell_type": "code",
   "execution_count": 3,
   "metadata": {
    "ExecuteTime": {
     "end_time": "2017-09-30T17:45:37.441552",
     "start_time": "2017-09-30T17:45:37.437157"
    },
    "collapsed": true
   },
   "outputs": [],
   "source": [
    "def union_lists(a, b):\n",
    "    return list(set(a).union(set(b)))\n",
    "\n",
    "def is_subset_of(a, b):\n",
    "    return [x for x in a if x in b] == a"
   ]
  },
  {
   "cell_type": "code",
   "execution_count": 4,
   "metadata": {
    "ExecuteTime": {
     "end_time": "2017-09-30T17:45:37.857176",
     "start_time": "2017-09-30T17:45:37.853089"
    },
    "collapsed": true
   },
   "outputs": [],
   "source": [
    "def left(r):\n",
    "    return r.split('->')[0].strip()\n",
    "\n",
    "def right(r):\n",
    "    return r.split('->')[1].strip()"
   ]
  },
  {
   "cell_type": "code",
   "execution_count": 5,
   "metadata": {
    "ExecuteTime": {
     "end_time": "2017-09-30T17:45:38.289844",
     "start_time": "2017-09-30T17:45:38.276482"
    },
    "collapsed": true
   },
   "outputs": [],
   "source": [
    "def _non_terminals(r, right=True):\n",
    "    i = int(right)\n",
    "    return [x for x in re.findall(r'[A-Z]', r.split('->')[i])]\n",
    "\n",
    "def _terminals(r, right=True):\n",
    "    i = int(right)\n",
    "    return [x for x in re.findall(r'[^A-Z\\s(\\->)\\|]', r.split('->')[i])]\n",
    "\n",
    "def right_non_terminals(r):\n",
    "    return _non_terminals(r)\n",
    "\n",
    "def right_terminals(r):\n",
    "    return _terminals(r)\n",
    "\n",
    "def left_non_terminals(r):\n",
    "    return _non_terminals(r, right=False)\n",
    "\n",
    "def left_terminals(r):\n",
    "    return _terminals(r, right=False)"
   ]
  },
  {
   "cell_type": "code",
   "execution_count": 6,
   "metadata": {
    "ExecuteTime": {
     "end_time": "2017-09-30T17:45:39.268854",
     "start_time": "2017-09-30T17:45:39.256709"
    },
    "collapsed": true
   },
   "outputs": [],
   "source": [
    "def explode(r):\n",
    "    left, right = r.split('->')\n",
    "    right = right.split('|')\n",
    "    return [(left + '->' + p).strip() \\\n",
    "               for p in right]\n",
    "\n",
    "def explode_grammar(g):\n",
    "    return [x for r in g for x in explode(r)]\n",
    "\n",
    "def compact_grammar(g):\n",
    "    from collections import defaultdict\n",
    "    dict_ = defaultdict(list)\n",
    "    for r in g:\n",
    "        left, right = r.split('->')\n",
    "        left, right = left.strip(), right.strip()\n",
    "        dict_[left] += [right]\n",
    "    return [k + ' -> ' + ' | '.join(v) for k,v in dict_.items()]"
   ]
  },
  {
   "cell_type": "markdown",
   "metadata": {},
   "source": [
    "# Удаление непорождающих правил"
   ]
  },
  {
   "cell_type": "markdown",
   "metadata": {},
   "source": [
    "https://neerc.ifmo.ru/wiki/index.php?title=%D0%A3%D0%B4%D0%B0%D0%BB%D0%B5%D0%BD%D0%B8%D0%B5_%D0%B1%D0%B5%D1%81%D0%BF%D0%BE%D0%BB%D0%B5%D0%B7%D0%BD%D1%8B%D1%85_%D1%81%D0%B8%D0%BC%D0%B2%D0%BE%D0%BB%D0%BE%D0%B2_%D0%B8%D0%B7_%D0%B3%D1%80%D0%B0%D0%BC%D0%BC%D0%B0%D1%82%D0%B8%D0%BA%D0%B8"
   ]
  },
  {
   "cell_type": "code",
   "execution_count": 7,
   "metadata": {
    "ExecuteTime": {
     "end_time": "2017-09-30T17:45:40.899457",
     "start_time": "2017-09-30T17:45:40.894096"
    },
    "collapsed": true
   },
   "outputs": [],
   "source": [
    "g = [\n",
    "    'S -> AS | BS | s',\n",
    "    'E -> EF | FF',\n",
    "    'A -> a',\n",
    "    'F -> f'\n",
    "]"
   ]
  },
  {
   "cell_type": "code",
   "execution_count": 8,
   "metadata": {
    "ExecuteTime": {
     "end_time": "2017-09-30T17:45:41.237107",
     "start_time": "2017-09-30T17:45:41.225450"
    },
    "collapsed": true
   },
   "outputs": [],
   "source": [
    "def delete_non_generating_rules(g):\n",
    "    g_ = explode_grammar(g)\n",
    "    Q = []\n",
    "    for r in g_:\n",
    "        if len(right_non_terminals(r)) == 0:\n",
    "            Q = union_lists(Q, left_non_terminals(r)) \n",
    "    changed = True\n",
    "    while changed:\n",
    "        changed = False\n",
    "        for r in g_:\n",
    "            if is_subset_of(right_non_terminals(r), Q): \n",
    "                old = len(Q)\n",
    "                Q = union_lists(Q, left_non_terminals(r))\n",
    "                if old != len(Q):\n",
    "                    changed = True\n",
    "    return compact_grammar([r for r in g_ if is_subset_of(right_non_terminals(r), Q)])"
   ]
  },
  {
   "cell_type": "code",
   "execution_count": 9,
   "metadata": {
    "ExecuteTime": {
     "end_time": "2017-09-30T17:45:41.641789",
     "start_time": "2017-09-30T17:45:41.638777"
    },
    "collapsed": false
   },
   "outputs": [],
   "source": [
    "new_grammar = delete_non_generating_rules(g)"
   ]
  },
  {
   "cell_type": "code",
   "execution_count": 10,
   "metadata": {
    "ExecuteTime": {
     "end_time": "2017-09-30T17:45:42.034525",
     "start_time": "2017-09-30T17:45:42.026135"
    },
    "collapsed": false
   },
   "outputs": [
    {
     "name": "stdout",
     "output_type": "stream",
     "text": [
      "S -> AS | s\n",
      "E -> EF | FF\n",
      "A -> a\n",
      "F -> f\n"
     ]
    }
   ],
   "source": [
    "for r in new_grammar:\n",
    "    print(r)"
   ]
  },
  {
   "cell_type": "markdown",
   "metadata": {},
   "source": [
    "# Удаление недостижимых нетерминалов"
   ]
  },
  {
   "cell_type": "markdown",
   "metadata": {},
   "source": [
    "https://neerc.ifmo.ru/wiki/index.php?title=%D0%A3%D0%B4%D0%B0%D0%BB%D0%B5%D0%BD%D0%B8%D0%B5_%D0%B1%D0%B5%D1%81%D0%BF%D0%BE%D0%BB%D0%B5%D0%B7%D0%BD%D1%8B%D1%85_%D1%81%D0%B8%D0%BC%D0%B2%D0%BE%D0%BB%D0%BE%D0%B2_%D0%B8%D0%B7_%D0%B3%D1%80%D0%B0%D0%BC%D0%BC%D0%B0%D1%82%D0%B8%D0%BA%D0%B8"
   ]
  },
  {
   "cell_type": "markdown",
   "metadata": {},
   "source": [
    "Нетерминал $A$ называется достижимым (англ. reachable) в КС-грамматике $\\Gamma$, если существует порождение $S \\Rightarrow^* \\alpha A \\beta$. Иначе он называется недостижимым (англ. unreachable).\n",
    "\n",
    "Очевидно, что если нетерминал в левой части правила является достижимым, то и все нетерминалы правой части являются достижимыми."
   ]
  },
  {
   "cell_type": "markdown",
   "metadata": {},
   "source": [
    "Алгоритм\n",
    "\n",
    "* __Шаг 0.__ Множество достижимых нетерминалов состоит из единственного элемента: $\\lbrace S \\rbrace$.\n",
    "* __Шаг 1.__ Если найдено правило, в левой части которого стоит нетерминал, содержащийся в множестве, добавим в множество все нетерминалы из правой части.\n",
    "* __Шаг 2.__ Повторим предыдущий шаг, если множество порождающих нетерминалов изменилось.\n",
    "\n",
    "Получаем множество всех достижимых нетерминалов, а нетерминалы, не попавшие в него, являются недостижимыми."
   ]
  },
  {
   "cell_type": "markdown",
   "metadata": {},
   "source": [
    "$S\\rightarrow AS|s \\\\     E\\rightarrow EF|FF \\\\     A\\rightarrow a \\\\     F\\rightarrow f$"
   ]
  },
  {
   "cell_type": "code",
   "execution_count": 11,
   "metadata": {
    "ExecuteTime": {
     "end_time": "2017-09-30T17:45:45.062667",
     "start_time": "2017-09-30T17:45:45.059176"
    },
    "collapsed": true
   },
   "outputs": [],
   "source": [
    "g = [\n",
    "    'S -> AS | s',\n",
    "    'E -> EF | FF',\n",
    "    'A -> a',\n",
    "    'F -> f'\n",
    "]"
   ]
  },
  {
   "cell_type": "code",
   "execution_count": 12,
   "metadata": {
    "ExecuteTime": {
     "end_time": "2017-09-30T17:45:45.425566",
     "start_time": "2017-09-30T17:45:45.417930"
    },
    "collapsed": false
   },
   "outputs": [],
   "source": [
    "def delete_unreachable_non_terminals(g):\n",
    "    g_ = explode_grammar(g)\n",
    "    Q = ['S']\n",
    "    changed = True\n",
    "    while changed:\n",
    "        changed = False\n",
    "        for r in g_:\n",
    "            lnt = left_non_terminals(r).pop()\n",
    "            if lnt not in Q:\n",
    "                continue\n",
    "            old = len(Q)\n",
    "            Q = union_lists(Q, right_non_terminals(r))\n",
    "            if old != len(Q):\n",
    "                changed = True\n",
    "    return compact_grammar([r for r in g_ if left_non_terminals(r).pop() in Q])"
   ]
  },
  {
   "cell_type": "code",
   "execution_count": 13,
   "metadata": {
    "ExecuteTime": {
     "end_time": "2017-09-30T17:45:45.772848",
     "start_time": "2017-09-30T17:45:45.769807"
    },
    "collapsed": true
   },
   "outputs": [],
   "source": [
    "new_grammar = delete_unreachable_non_terminals(g)"
   ]
  },
  {
   "cell_type": "code",
   "execution_count": 14,
   "metadata": {
    "ExecuteTime": {
     "end_time": "2017-09-30T17:45:46.062713",
     "start_time": "2017-09-30T17:45:46.057848"
    },
    "collapsed": false
   },
   "outputs": [
    {
     "name": "stdout",
     "output_type": "stream",
     "text": [
      "S -> AS | s\n",
      "A -> a\n"
     ]
    }
   ],
   "source": [
    "for r in new_grammar:\n",
    "    print(r)"
   ]
  },
  {
   "cell_type": "markdown",
   "metadata": {},
   "source": [
    "# Удаление бесполезных символов"
   ]
  },
  {
   "cell_type": "markdown",
   "metadata": {},
   "source": [
    "https://neerc.ifmo.ru/wiki/index.php?title=%D0%A3%D0%B4%D0%B0%D0%BB%D0%B5%D0%BD%D0%B8%D0%B5_%D0%B1%D0%B5%D1%81%D0%BF%D0%BE%D0%BB%D0%B5%D0%B7%D0%BD%D1%8B%D1%85_%D1%81%D0%B8%D0%BC%D0%B2%D0%BE%D0%BB%D0%BE%D0%B2_%D0%B8%D0%B7_%D0%B3%D1%80%D0%B0%D0%BC%D0%BC%D0%B0%D1%82%D0%B8%D0%BA%D0%B8"
   ]
  },
  {
   "cell_type": "markdown",
   "metadata": {},
   "source": [
    "Нетерминал $A$ называется полезным (англ. useful) в КС-грамматике $\\Gamma$, если он может участвовать в выводе, то есть существует порождение вида $S \\Rightarrow ^* \\alpha A \\beta \\Rightarrow ^* w$. Иначе он называется бесполезным (англ. useless).\n",
    "\n",
    "Грамматика $\\Gamma$ не содержит бесполезных нетерминалов тогда и только тогда, когда грамматика $\\Gamma$ не содержит ни недостижимых нетерминалов, ни непорождающих."
   ]
  },
  {
   "cell_type": "markdown",
   "metadata": {},
   "source": [
    "Алгоритм состоит из двух этапов:\n",
    "\n",
    "1. Удалить из грамматики правила, содержащие непорождающие нетерминалы.\n",
    "2. Удалить из грамматики правила, содержащие недостижимые нетерминалы."
   ]
  },
  {
   "cell_type": "code",
   "execution_count": 15,
   "metadata": {
    "ExecuteTime": {
     "end_time": "2017-09-30T17:45:47.566700",
     "start_time": "2017-09-30T17:45:47.561765"
    },
    "collapsed": true
   },
   "outputs": [],
   "source": [
    "def delete_useless_symbols(g):\n",
    "    g_ = delete_non_generating_rules(g)\n",
    "    return delete_unreachable_non_terminals(g_)"
   ]
  },
  {
   "cell_type": "code",
   "execution_count": 16,
   "metadata": {
    "ExecuteTime": {
     "end_time": "2017-09-30T17:45:47.879050",
     "start_time": "2017-09-30T17:45:47.876164"
    },
    "collapsed": true
   },
   "outputs": [],
   "source": [
    "g = [\n",
    "    'S -> AS | BS | s',\n",
    "    'E -> EF | FF',\n",
    "    'A -> a',\n",
    "    'F -> f'\n",
    "]"
   ]
  },
  {
   "cell_type": "code",
   "execution_count": 17,
   "metadata": {
    "ExecuteTime": {
     "end_time": "2017-09-30T17:45:48.160332",
     "start_time": "2017-09-30T17:45:48.156218"
    },
    "collapsed": true
   },
   "outputs": [],
   "source": [
    "new_grammar = delete_useless_symbols(g)"
   ]
  },
  {
   "cell_type": "code",
   "execution_count": 18,
   "metadata": {
    "ExecuteTime": {
     "end_time": "2017-09-30T17:45:48.344541",
     "start_time": "2017-09-30T17:45:48.339346"
    },
    "collapsed": false
   },
   "outputs": [
    {
     "name": "stdout",
     "output_type": "stream",
     "text": [
      "S -> AS | s\n",
      "A -> a\n"
     ]
    }
   ],
   "source": [
    "for r in new_grammar:\n",
    "    print(r)"
   ]
  },
  {
   "cell_type": "markdown",
   "metadata": {},
   "source": [
    "# Удаление цепных правил"
   ]
  },
  {
   "cell_type": "markdown",
   "metadata": {},
   "source": [
    "https://neerc.ifmo.ru/wiki/index.php?title=%D0%A3%D0%B4%D0%B0%D0%BB%D0%B5%D0%BD%D0%B8%D0%B5_%D1%86%D0%B5%D0%BF%D0%BD%D1%8B%D1%85_%D0%BF%D1%80%D0%B0%D0%B2%D0%B8%D0%BB_%D0%B8%D0%B7_%D0%B3%D1%80%D0%B0%D0%BC%D0%BC%D0%B0%D1%82%D0%B8%D0%BA%D0%B8"
   ]
  },
  {
   "cell_type": "markdown",
   "metadata": {
    "collapsed": true
   },
   "source": [
    "__Цепная пара__ (unit pair) — упорядоченная пара (A,B), в которой $A\\Rightarrow ^* B$, используя только цепные правила.\n",
    "\n",
    "Алгоритм удаления цепных правил из грамматики:\n",
    "\n",
    "1. Найти все цепные пары в грамматике $\\Gamma$.\n",
    "2. Для каждой цепной пары $(A,B)$ добавить в грамматику $\\Gamma'$ все правила вида $A\\rightarrow\\alpha$, где $B\\rightarrow\\alpha$ — нецепное правило из $\\Gamma$.\n",
    "3. Удалить все цепные правила"
   ]
  },
  {
   "cell_type": "code",
   "execution_count": 19,
   "metadata": {
    "ExecuteTime": {
     "end_time": "2017-09-30T17:45:49.474245",
     "start_time": "2017-09-30T17:45:49.471200"
    },
    "collapsed": true
   },
   "outputs": [],
   "source": [
    "g = [\n",
    "    'A -> B | a', \n",
    "    'B -> C | b',\n",
    "    'C -> DD | c'\n",
    "] "
   ]
  },
  {
   "cell_type": "code",
   "execution_count": 20,
   "metadata": {
    "ExecuteTime": {
     "end_time": "2017-09-30T17:45:49.672039",
     "start_time": "2017-09-30T17:45:49.644698"
    },
    "collapsed": false
   },
   "outputs": [],
   "source": [
    "def delete_unit_rules(g):\n",
    "    g_ = explode_grammar(g)\n",
    "    pairs = [(k, k) for k in all_non_terminals(g)]\n",
    "    \n",
    "    to_delete = []\n",
    "    for r in g_:\n",
    "        lnt = left_non_terminals(r).pop()\n",
    "        rnt = right_non_terminals(r)\n",
    "        if len(rnt) > 1:\n",
    "            continue\n",
    "        for a, b in pairs:  \n",
    "            if b == lnt:\n",
    "                for x in rnt:\n",
    "                    if (a, x) not in pairs:\n",
    "                        to_delete += [r]\n",
    "                        pairs += [(a, x)]\n",
    "\n",
    "    pairs = [(a,b) for (a,b) in pairs if a != b] \n",
    "    \n",
    "    new_rules = []\n",
    "    for a,b in pairs:\n",
    "        for r in g_:\n",
    "            lnt = left_non_terminals(r).pop()\n",
    "            if lnt != b:\n",
    "                continue\n",
    "            candidate = (a, right(r))\n",
    "            if candidate not in pairs:\n",
    "                new_rules += [a + ' -> ' + right(r)]\n",
    "    \n",
    "    new_rules.extend(g_)\n",
    "    new_rules = [x for x in new_rules if x not in to_delete]\n",
    "    \n",
    "    return compact_grammar(new_rules)"
   ]
  },
  {
   "cell_type": "code",
   "execution_count": 21,
   "metadata": {
    "ExecuteTime": {
     "end_time": "2017-09-30T17:45:50.008297",
     "start_time": "2017-09-30T17:45:50.005352"
    },
    "collapsed": false
   },
   "outputs": [],
   "source": [
    "new_grammar = delete_unit_rules(g)"
   ]
  },
  {
   "cell_type": "code",
   "execution_count": 22,
   "metadata": {
    "ExecuteTime": {
     "end_time": "2017-09-30T17:45:50.413071",
     "start_time": "2017-09-30T17:45:50.406754"
    },
    "collapsed": false
   },
   "outputs": [
    {
     "name": "stdout",
     "output_type": "stream",
     "text": [
      "A -> b | DD | c | a\n",
      "B -> DD | c | b\n",
      "C -> DD | c\n"
     ]
    }
   ],
   "source": [
    "for r in new_grammar:\n",
    "    print(r)"
   ]
  },
  {
   "cell_type": "markdown",
   "metadata": {},
   "source": [
    "# Поиск eps-нетерминалов"
   ]
  },
  {
   "cell_type": "markdown",
   "metadata": {},
   "source": [
    "https://neerc.ifmo.ru/wiki/index.php?title=%D0%A3%D0%B4%D0%B0%D0%BB%D0%B5%D0%BD%D0%B8%D0%B5_eps-%D0%BF%D1%80%D0%B0%D0%B2%D0%B8%D0%BB_%D0%B8%D0%B7_%D0%B3%D1%80%D0%B0%D0%BC%D0%BC%D0%B0%D1%82%D0%B8%D0%BA%D0%B8"
   ]
  },
  {
   "cell_type": "markdown",
   "metadata": {},
   "source": [
    "Правила вида $A \\to \\varepsilon$ называются $\\varepsilon$-правилами (англ. $\\varepsilon$-rule).\n",
    "\n",
    "Нетерминал $A$ называется $\\varepsilon$-порождающим (англ. $\\varepsilon$-generating), если $A \\Rightarrow^* \\varepsilon$."
   ]
  },
  {
   "cell_type": "markdown",
   "metadata": {},
   "source": [
    "Алгоритм поиска $\\varepsilon$-порождающих нетерминалов\n",
    "\n",
    "1. Найти все $\\varepsilon$-правила. Составить множество, состоящее из нетерминалов, входящих в левые части таких правил.\n",
    "2. Перебираем правила грамматики $\\Gamma$. Если найдено правило $A \\rightarrow C_1C_2...C_k$, для которого верно, что каждый $C_i$ принадлежит множеству, то добавить $A$ в множество.\n",
    "3. Если на шаге 2 множество изменилось, то повторить шаг 2."
   ]
  },
  {
   "cell_type": "code",
   "execution_count": 52,
   "metadata": {
    "ExecuteTime": {
     "end_time": "2017-09-30T18:12:17.319665",
     "start_time": "2017-09-30T18:12:17.316243"
    },
    "collapsed": true
   },
   "outputs": [],
   "source": [
    "g = [\n",
    "    'S -> ABC',\n",
    "    'S -> DS',\n",
    "    'A -> #',\n",
    "    'B -> AC',\n",
    "    'C -> #',\n",
    "    'D -> d'\n",
    "]"
   ]
  },
  {
   "cell_type": "code",
   "execution_count": 53,
   "metadata": {
    "ExecuteTime": {
     "end_time": "2017-09-30T18:12:21.859563",
     "start_time": "2017-09-30T18:12:21.851136"
    },
    "collapsed": true
   },
   "outputs": [],
   "source": [
    "def find_esp_non_terminals(g):\n",
    "    g_ = explode_grammar(g)\n",
    "    Q = []\n",
    "    changed = True\n",
    "    while changed:\n",
    "        changed = False\n",
    "        for r in g_:\n",
    "            all_non_terms_are_eps = is_subset_of(right_non_terminals(r), Q) and len(right_terminals(r)) == 0\n",
    "            if right(r) == '#' or all_non_terms_are_eps:\n",
    "                old = len(Q)\n",
    "                Q = union_lists(Q, left_non_terminals(r))\n",
    "                if old != len(Q):\n",
    "                    changed = True\n",
    "    return Q"
   ]
  },
  {
   "cell_type": "code",
   "execution_count": 54,
   "metadata": {
    "ExecuteTime": {
     "end_time": "2017-09-30T18:12:23.235275",
     "start_time": "2017-09-30T18:12:23.232208"
    },
    "collapsed": true
   },
   "outputs": [],
   "source": [
    "Q = find_esp_non_terminals(g)"
   ]
  },
  {
   "cell_type": "code",
   "execution_count": 55,
   "metadata": {
    "ExecuteTime": {
     "end_time": "2017-09-30T18:12:23.366005",
     "start_time": "2017-09-30T18:12:23.362005"
    },
    "collapsed": false
   },
   "outputs": [
    {
     "name": "stdout",
     "output_type": "stream",
     "text": [
      "['C', 'B', 'S', 'A']\n"
     ]
    }
   ],
   "source": [
    "print(Q)"
   ]
  },
  {
   "cell_type": "markdown",
   "metadata": {},
   "source": [
    "# Удаление eps-правил"
   ]
  },
  {
   "cell_type": "markdown",
   "metadata": {},
   "source": [
    "https://neerc.ifmo.ru/wiki/index.php?title=%D0%A3%D0%B4%D0%B0%D0%BB%D0%B5%D0%BD%D0%B8%D0%B5_eps-%D0%BF%D1%80%D0%B0%D0%B2%D0%B8%D0%BB_%D0%B8%D0%B7_%D0%B3%D1%80%D0%B0%D0%BC%D0%BC%D0%B0%D1%82%D0%B8%D0%BA%D0%B8"
   ]
  },
  {
   "cell_type": "markdown",
   "metadata": {},
   "source": [
    "Алгоритм удаления $\\varepsilon$-правил из грамматики\n",
    "\n",
    "1. Добавить все правила из $P$ в $P'$.\n",
    "2. Найти все $\\varepsilon$-порождаюшие нетерминалы.\n",
    "3. Для каждого правила вида $A \\rightarrow \\alpha_0 B_1 \\alpha_1 B_2 \\alpha_2 ... B_k \\alpha_k$ (где $\\alpha_i$ — последовательности из терминалов и нетерминалов, $B_j$ — $\\varepsilon$-порождающие нетерминалы) добавить в $P'$ все возможные варианты правил, в которых либо присутствует, либо удалён каждый из нетерминалов $B_j\\; (1 \\leqslant j \\leqslant k)$.\n",
    "4. Удалить все $\\varepsilon$-правила из $P'$.\n",
    "5. Если в исходной грамматике $\\Gamma$ выводилось $\\varepsilon$, то необходимо добавить новый нетерминал $S'$, сделать его стартовым, добавить правило $S' \\rightarrow S|\\varepsilon$."
   ]
  },
  {
   "cell_type": "code",
   "execution_count": null,
   "metadata": {
    "collapsed": true
   },
   "outputs": [],
   "source": []
  },
  {
   "cell_type": "markdown",
   "metadata": {},
   "source": [
    "# Устранение непосредственной левой рекурсии"
   ]
  },
  {
   "cell_type": "markdown",
   "metadata": {},
   "source": [
    "https://neerc.ifmo.ru/wiki/index.php?title=%D0%A3%D1%81%D1%82%D1%80%D0%B0%D0%BD%D0%B5%D0%BD%D0%B8%D0%B5_%D0%BB%D0%B5%D0%B2%D0%BE%D0%B9_%D1%80%D0%B5%D0%BA%D1%83%D1%80%D1%81%D0%B8%D0%B8"
   ]
  },
  {
   "cell_type": "markdown",
   "metadata": {},
   "source": [
    "Говорят, что контекстно-свободная (КС) грамматика $\\Gamma$ содержит непосредственную левую рекурсию (англ. direct left recursion), если она содержит правило вида $A \\to A\\alpha$."
   ]
  },
  {
   "cell_type": "markdown",
   "metadata": {},
   "source": [
    "Методы нисходящего разбора не в состоянии работать с леворекурсивными грамматиками. Проблема в том, что продукция вида $A \\Rightarrow^* A\\alpha$ может применяться бесконечно долго, так и не выработав некий терминальный символ, который можно было бы сравнить со строкой. Поэтому требуется преобразование грамматики, которое бы устранило левую рекурсию."
   ]
  },
  {
   "cell_type": "markdown",
   "metadata": {
    "collapsed": true
   },
   "source": [
    "Опишем процедуру, устраняющую все правила вида $A \\to A\\alpha$, для фиксированного нетерминала $A$.\n",
    "\n",
    "1. Запишем все правила вывода из $A$ в виде:  $A \\to A\\alpha_1 \\mid \\ldots \\mid A\\alpha_n \\mid \\beta_1 \\mid \\ldots \\mid \\beta_m$, где\n",
    "    * $\\alpha$ — непустая последовательность терминалов и нетерминалов ($\\alpha \\nrightarrow \\varepsilon$);\n",
    "    * $\\beta$ — непустая последовательность терминалов и нетерминалов, не начинающаяся с $A$.\n",
    "    \n",
    "2. Заменим правила вывода из $A$ на $A \\to\\beta_1A^\\prime \\mid \\ldots\\ \\mid \\beta_mA^\\prime \\mid \\beta_1 \\mid \\ldots \\mid \\beta_m$.\n",
    "3. Создадим новый нетерминал ${A^\\prime} \\to \\alpha_1{A^\\prime} \\mid \\ldots \\mid \\alpha_n{A^\\prime} \\mid \\alpha_1 \\mid \\ldots \\mid \\alpha_n$.\n",
    "\n",
    "Изначально нетерминал $A$ порождает строки вида $\\beta\\alpha_{i0}\\alpha_{i1} \\ldots \\alpha_{ik}$. В новой грамматике нетерминал $A$ порождает $\\beta{A^\\prime}$, а $A^\\prime$ порождает строки вида $\\alpha_{i0}\\alpha_{i1} \\ldots \\alpha_{ik}$. Из этого очевидно, что изначальная грамматика эквивалентна новой."
   ]
  },
  {
   "cell_type": "code",
   "execution_count": null,
   "metadata": {
    "collapsed": true
   },
   "outputs": [],
   "source": []
  }
 ],
 "metadata": {
  "kernelspec": {
   "display_name": "Python 3",
   "language": "python",
   "name": "python3"
  },
  "language_info": {
   "codemirror_mode": {
    "name": "ipython",
    "version": 3
   },
   "file_extension": ".py",
   "mimetype": "text/x-python",
   "name": "python",
   "nbconvert_exporter": "python",
   "pygments_lexer": "ipython3",
   "version": "3.6.0"
  },
  "toc": {
   "colors": {
    "hover_highlight": "#DAA520",
    "running_highlight": "#FF0000",
    "selected_highlight": "#FFD700"
   },
   "moveMenuLeft": true,
   "nav_menu": {
    "height": "30px",
    "width": "252px"
   },
   "navigate_menu": true,
   "number_sections": true,
   "sideBar": true,
   "threshold": 4,
   "toc_cell": false,
   "toc_section_display": "block",
   "toc_window_display": true
  }
 },
 "nbformat": 4,
 "nbformat_minor": 2
}
